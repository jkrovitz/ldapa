{
 "cells": [
  {
   "cell_type": "code",
   "execution_count": 9,
   "metadata": {},
   "outputs": [],
   "source": [
    "from selenium.webdriver import Chrome, ChromeOptions\n",
    "from selenium.webdriver.common.keys import Keys\n",
    "from selenium.common.exceptions import StaleElementReferenceException, NoSuchElementException\n",
    "from bs4 import BeautifulSoup\n",
    "import re\n",
    "from time import sleep\n",
    "import pickle\n",
    "import bs4\n",
    "import collections"
   ]
  },
  {
   "cell_type": "code",
   "execution_count": 26,
   "metadata": {},
   "outputs": [],
   "source": []
  },
  {
   "cell_type": "code",
   "execution_count": 29,
   "metadata": {},
   "outputs": [],
   "source": [
    "#driver=Chrome(r'C:\\Users\\17247\\Desktop\\Werk\\ldapa\\driver\\chromedriver.exe')\n",
    "driver=Chrome(r'/Users/jkrovitz/Documents/LDA_OF_PA_Project/ldapa/driver/chromedriver')"
   ]
  },
  {
   "cell_type": "code",
   "execution_count": null,
   "metadata": {},
   "outputs": [],
   "source": []
  },
  {
   "cell_type": "code",
   "execution_count": 21,
   "metadata": {},
   "outputs": [],
   "source": [
    "driver.get('https://www.psychologytoday.com/us/therapists/patricia-kehren-pittsburgh-pa/490647?sid=5e238eb70edbd&name=Patricia+Kehren&ref=1&tr=ResultsName')"
   ]
  },
  {
   "cell_type": "code",
   "execution_count": 76,
   "metadata": {},
   "outputs": [],
   "source": [
    "page_source=driver.page_source"
   ]
  },
  {
   "cell_type": "code",
   "execution_count": 77,
   "metadata": {},
   "outputs": [
    {
     "data": {
      "text/plain": [
       "'https://www.psychologytoday.com/us/therapists/patricia-kehren-pittsburgh-pa/490647?sid=5e238eb70edbd&name=Patricia+Kehren&ref=1&tr=ResultsName'"
      ]
     },
     "execution_count": 77,
     "metadata": {},
     "output_type": "execute_result"
    }
   ],
   "source": [
    "driver.current_url"
   ]
  },
  {
   "cell_type": "code",
   "execution_count": 23,
   "metadata": {},
   "outputs": [
    {
     "ename": "NameError",
     "evalue": "name 'page_source' is not defined",
     "output_type": "error",
     "traceback": [
      "\u001b[0;31m---------------------------------------------------------------------------\u001b[0m",
      "\u001b[0;31mNameError\u001b[0m                                 Traceback (most recent call last)",
      "\u001b[0;32m<ipython-input-23-2b2cecd6b70b>\u001b[0m in \u001b[0;36m<module>\u001b[0;34m\u001b[0m\n\u001b[0;32m----> 1\u001b[0;31m \u001b[0msoup\u001b[0m\u001b[0;34m=\u001b[0m\u001b[0mBeautifulSoup\u001b[0m\u001b[0;34m(\u001b[0m\u001b[0mpage_source\u001b[0m\u001b[0;34m)\u001b[0m\u001b[0;34m\u001b[0m\u001b[0;34m\u001b[0m\u001b[0m\n\u001b[0m",
      "\u001b[0;31mNameError\u001b[0m: name 'page_source' is not defined"
     ]
    }
   ],
   "source": [
    "soup=BeautifulSoup(page_source)"
   ]
  },
  {
   "cell_type": "code",
   "execution_count": 79,
   "metadata": {},
   "outputs": [],
   "source": [
    "website_text=soup.find('a', {'data-event-label': 'links-website'})"
   ]
  },
  {
   "cell_type": "code",
   "execution_count": 80,
   "metadata": {},
   "outputs": [
    {
     "data": {
      "text/plain": [
       "True"
      ]
     },
     "execution_count": 80,
     "metadata": {},
     "output_type": "execute_result"
    }
   ],
   "source": [
    "website_text.has_attr('href')"
   ]
  },
  {
   "cell_type": "code",
   "execution_count": 81,
   "metadata": {},
   "outputs": [],
   "source": [
    "issues=soup.findAll('ul',{'class':'attribute-list copy-small'})[1]"
   ]
  },
  {
   "cell_type": "code",
   "execution_count": 82,
   "metadata": {},
   "outputs": [],
   "source": [
    "issues_text=[]\n",
    "for i in issues:\n",
    "    if type(i) == bs4.element.Tag:\n",
    "        issues_text.append(i.text.strip())"
   ]
  },
  {
   "cell_type": "code",
   "execution_count": 83,
   "metadata": {},
   "outputs": [],
   "source": [
    "issues_text=[i.text.strip() for i in issues if type(i)==bs4.element.Tag]"
   ]
  },
  {
   "cell_type": "code",
   "execution_count": 84,
   "metadata": {},
   "outputs": [
    {
     "data": {
      "text/plain": [
       "['Adults']"
      ]
     },
     "execution_count": 84,
     "metadata": {},
     "output_type": "execute_result"
    }
   ],
   "source": [
    "issues_text"
   ]
  },
  {
   "cell_type": "code",
   "execution_count": 85,
   "metadata": {},
   "outputs": [],
   "source": [
    "mental_health=soup.findAll('ul',{'class':'attribute-list copy-small'})[2]"
   ]
  },
  {
   "cell_type": "code",
   "execution_count": 86,
   "metadata": {},
   "outputs": [],
   "source": [
    "mental_text=[]\n",
    "for i in mental_health:\n",
    "    if type(i) == bs4.element.Tag:\n",
    "        mental_text.append(i.text.strip())"
   ]
  },
  {
   "cell_type": "code",
   "execution_count": 87,
   "metadata": {},
   "outputs": [],
   "source": [
    "mental_text=[i.text.strip() for i in mental_health if type(i)==bs4.element.Tag]"
   ]
  },
  {
   "cell_type": "code",
   "execution_count": 88,
   "metadata": {},
   "outputs": [
    {
     "data": {
      "text/plain": [
       "['Cognitive Behavioral (CBT)',\n",
       " 'Dialectical (DBT)',\n",
       " 'Eclectic',\n",
       " 'Interpersonal',\n",
       " 'Motivational Interviewing',\n",
       " 'Person-Centered',\n",
       " 'Strength-Based']"
      ]
     },
     "execution_count": 88,
     "metadata": {},
     "output_type": "execute_result"
    }
   ],
   "source": [
    "mental_text"
   ]
  },
  {
   "cell_type": "code",
   "execution_count": 89,
   "metadata": {},
   "outputs": [
    {
     "data": {
      "text/plain": [
       "3"
      ]
     },
     "execution_count": 89,
     "metadata": {},
     "output_type": "execute_result"
    }
   ],
   "source": [
    "specalites=soup.findAll('li', {'class':'highlight'})\n",
    "len(specalites)"
   ]
  },
  {
   "cell_type": "code",
   "execution_count": 90,
   "metadata": {},
   "outputs": [],
   "source": [
    "spec_text=[]\n",
    "for s in specalites:\n",
    "    spec_text.append(s.text.strip())"
   ]
  },
  {
   "cell_type": "code",
   "execution_count": 91,
   "metadata": {},
   "outputs": [
    {
     "data": {
      "text/plain": [
       "['Depression', 'Anxiety', 'Mood Disorders']"
      ]
     },
     "execution_count": 91,
     "metadata": {},
     "output_type": "execute_result"
    }
   ],
   "source": [
    "spec_text"
   ]
  },
  {
   "cell_type": "code",
   "execution_count": 97,
   "metadata": {},
   "outputs": [],
   "source": [
    "issues_2=soup.findAll('ul', {'class':'attribute-list copy-small'})"
   ]
  },
  {
   "cell_type": "code",
   "execution_count": 98,
   "metadata": {},
   "outputs": [],
   "source": [
    "issues_2_text=[i.text.strip() for i in issues_2 if type(i)==bs4.element.Tag]"
   ]
  },
  {
   "cell_type": "code",
   "execution_count": 110,
   "metadata": {},
   "outputs": [],
   "source": [
    "clean_text=[t.replace('\\n', ',') for t in issues_2_text]"
   ]
  },
  {
   "cell_type": "code",
   "execution_count": 111,
   "metadata": {},
   "outputs": [
    {
     "ename": "AttributeError",
     "evalue": "'list' object has no attribute 'strip'",
     "output_type": "error",
     "traceback": [
      "\u001b[1;31m---------------------------------------------------------------------------\u001b[0m",
      "\u001b[1;31mAttributeError\u001b[0m                            Traceback (most recent call last)",
      "\u001b[1;32m<ipython-input-111-91476e88c3f7>\u001b[0m in \u001b[0;36m<module>\u001b[1;34m\u001b[0m\n\u001b[1;32m----> 1\u001b[1;33m \u001b[0msplit_text\u001b[0m\u001b[1;33m=\u001b[0m\u001b[1;33m[\u001b[0m\u001b[0mt\u001b[0m\u001b[1;33m.\u001b[0m\u001b[0msplit\u001b[0m\u001b[1;33m(\u001b[0m\u001b[1;34m','\u001b[0m\u001b[1;33m)\u001b[0m\u001b[1;33m.\u001b[0m\u001b[0mstrip\u001b[0m\u001b[1;33m(\u001b[0m\u001b[1;33m)\u001b[0m \u001b[1;32mfor\u001b[0m \u001b[0mt\u001b[0m \u001b[1;32min\u001b[0m \u001b[0mclean_text\u001b[0m\u001b[1;33m]\u001b[0m\u001b[1;33m\u001b[0m\u001b[1;33m\u001b[0m\u001b[0m\n\u001b[0m",
      "\u001b[1;32m<ipython-input-111-91476e88c3f7>\u001b[0m in \u001b[0;36m<listcomp>\u001b[1;34m(.0)\u001b[0m\n\u001b[1;32m----> 1\u001b[1;33m \u001b[0msplit_text\u001b[0m\u001b[1;33m=\u001b[0m\u001b[1;33m[\u001b[0m\u001b[0mt\u001b[0m\u001b[1;33m.\u001b[0m\u001b[0msplit\u001b[0m\u001b[1;33m(\u001b[0m\u001b[1;34m','\u001b[0m\u001b[1;33m)\u001b[0m\u001b[1;33m.\u001b[0m\u001b[0mstrip\u001b[0m\u001b[1;33m(\u001b[0m\u001b[1;33m)\u001b[0m \u001b[1;32mfor\u001b[0m \u001b[0mt\u001b[0m \u001b[1;32min\u001b[0m \u001b[0mclean_text\u001b[0m\u001b[1;33m]\u001b[0m\u001b[1;33m\u001b[0m\u001b[1;33m\u001b[0m\u001b[0m\n\u001b[0m",
      "\u001b[1;31mAttributeError\u001b[0m: 'list' object has no attribute 'strip'"
     ]
    }
   ],
   "source": [
    "split_text=[t.split(',') for t in clean_text]"
   ]
  },
  {
   "cell_type": "code",
   "execution_count": 136,
   "metadata": {},
   "outputs": [],
   "source": [
    "issues_2_text_clean=[]\n",
    "for t in split_text:\n",
    "    for r in t:\n",
    "        if len(r) > 0 and any(c.isalpha() for c in r):\n",
    "            issues_2_text_clean.append(r.strip())"
   ]
  },
  {
   "cell_type": "code",
   "execution_count": 137,
   "metadata": {},
   "outputs": [
    {
     "data": {
      "text/plain": [
       "['Bipolar Disorder',\n",
       " 'Career Counseling',\n",
       " 'Coping Skills',\n",
       " 'Dual Diagnosis',\n",
       " 'Emotional Disturbance',\n",
       " 'Family Conflict',\n",
       " 'Grief',\n",
       " 'Life Coaching',\n",
       " 'Life Transitions',\n",
       " 'Relationship Issues',\n",
       " 'Self Esteem',\n",
       " 'Stress',\n",
       " 'Trauma and PTSD',\n",
       " \"Women's Issues\",\n",
       " 'Adults',\n",
       " 'Cognitive Behavioral (CBT)',\n",
       " 'Dialectical (DBT)',\n",
       " 'Eclectic',\n",
       " 'Interpersonal',\n",
       " 'Motivational Interviewing',\n",
       " 'Person-Centered',\n",
       " 'Strength-Based',\n",
       " 'Individuals',\n",
       " 'Online Counseling']"
      ]
     },
     "execution_count": 137,
     "metadata": {},
     "output_type": "execute_result"
    }
   ],
   "source": [
    "issues_2_text_clean"
   ]
  },
  {
   "cell_type": "code",
   "execution_count": 92,
   "metadata": {},
   "outputs": [],
   "source": [
    "all_specs=issues_text+mental_text+spec_text"
   ]
  },
  {
   "cell_type": "code",
   "execution_count": 93,
   "metadata": {},
   "outputs": [
    {
     "data": {
      "text/plain": [
       "['Adults',\n",
       " 'Cognitive Behavioral (CBT)',\n",
       " 'Dialectical (DBT)',\n",
       " 'Eclectic',\n",
       " 'Interpersonal',\n",
       " 'Motivational Interviewing',\n",
       " 'Person-Centered',\n",
       " 'Strength-Based',\n",
       " 'Depression',\n",
       " 'Anxiety',\n",
       " 'Mood Disorders']"
      ]
     },
     "execution_count": 93,
     "metadata": {},
     "output_type": "execute_result"
    }
   ],
   "source": [
    "all_specs"
   ]
  },
  {
   "cell_type": "code",
   "execution_count": 170,
   "metadata": {},
   "outputs": [],
   "source": [
    "result={'name':'chris',\n",
    "        'phone':'123',\n",
    "        'city':'Pittsburgh',\n",
    "        'state':'PA',\n",
    "        #'zip_code':'12345',\n",
    "        #'specs':['1','2','3'],\n",
    "        'personal_website':'1234.com'}"
   ]
  },
  {
   "cell_type": "code",
   "execution_count": 171,
   "metadata": {},
   "outputs": [
    {
     "data": {
      "text/plain": [
       "{'name': 'chris',\n",
       " 'phone': '123',\n",
       " 'city': 'Pittsburgh',\n",
       " 'state': 'PA',\n",
       " 'personal_website': '1234.com'}"
      ]
     },
     "execution_count": 171,
     "metadata": {},
     "output_type": "execute_result"
    }
   ],
   "source": [
    "result"
   ]
  },
  {
   "cell_type": "code",
   "execution_count": 180,
   "metadata": {},
   "outputs": [],
   "source": [
    "def check_entry(entry):\n",
    "    proper_keys=['name', 'phone', 'city', 'state', 'zip_code', 'specs', 'personal_website']\n",
    "    missing_keys=list(set(proper_keys).difference(list(result.keys())))\n",
    "    if missing_keys:\n",
    "        for k in missing_keys:\n",
    "            entry.update({k:'None'})\n",
    "    entry_sorted=dict(collections.OrderedDict(entry))\n",
    "    return entry_sorted"
   ]
  },
  {
   "cell_type": "code",
   "execution_count": 181,
   "metadata": {},
   "outputs": [
    {
     "data": {
      "text/plain": [
       "{'name': 'chris',\n",
       " 'phone': '123',\n",
       " 'city': 'Pittsburgh',\n",
       " 'state': 'PA',\n",
       " 'personal_website': '1234.com',\n",
       " 'specs': 'None',\n",
       " 'zip_code': 'None'}"
      ]
     },
     "execution_count": 181,
     "metadata": {},
     "output_type": "execute_result"
    }
   ],
   "source": [
    "check_entry(result)"
   ]
  },
  {
   "cell_type": "code",
   "execution_count": null,
   "metadata": {},
   "outputs": [],
   "source": []
  }
 ],
 "metadata": {
  "kernelspec": {
   "display_name": "Python 3",
   "language": "python",
   "name": "python3"
  },
  "language_info": {
   "codemirror_mode": {
    "name": "ipython",
    "version": 3
   },
   "file_extension": ".py",
   "mimetype": "text/x-python",
   "name": "python",
   "nbconvert_exporter": "python",
   "pygments_lexer": "ipython3",
   "version": "3.7.6"
  }
 },
 "nbformat": 4,
 "nbformat_minor": 4
}
