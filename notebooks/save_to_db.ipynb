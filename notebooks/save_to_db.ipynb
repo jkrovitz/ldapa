{
 "cells": [
  {
   "cell_type": "code",
   "execution_count": 1,
   "metadata": {},
   "outputs": [],
   "source": [
    "from pymongo import MongoClient\n",
    "import pickle\n",
    "import os"
   ]
  },
  {
   "cell_type": "code",
   "execution_count": 2,
   "metadata": {},
   "outputs": [],
   "source": [
    "#os.startfile(r\"C:\\Program Files\\MongoDB\\Server\\4.2\\bin\\mongo.exe\")\n",
    "def startfile(fn):\n",
    "    os.system('open %s' % fn)\n",
    "\n",
    "\n",
    "fp = startfile('/Users/jkrovitz/Downloads/mongodb-macos-x86_64-4.2.3/bin/mongo')"
   ]
  },
  {
   "cell_type": "code",
   "execution_count": 3,
   "metadata": {},
   "outputs": [],
   "source": [
    "with open(\"/Users/jkrovitz/Documents/LDA_OF_PA_Project/ldapa/data/pitt_data.txt\", \"rb\") as fp:\n",
    "    data=pickle.load(fp)"
   ]
  },
  {
   "cell_type": "code",
   "execution_count": 4,
   "metadata": {},
   "outputs": [
    {
     "data": {
      "text/plain": [
       "{'name': 'Cynthia A. Paul',\n",
       " 'phone': '(412) 228-0967',\n",
       " 'city': 'Pittsburgh',\n",
       " 'state': 'Pennsylvania',\n",
       " 'zip_code': '15228',\n",
       " 'information': ['Life Coaching',\n",
       "  'Marital and Premarital',\n",
       "  'Cigna',\n",
       "  'Depression',\n",
       "  'Behavioral Issues',\n",
       "  'Cognitive Behavioral (CBT)',\n",
       "  'Behavioral Health Systems',\n",
       "  'Optum',\n",
       "  'Preteens / Tweens (11 to 13)',\n",
       "  'Coaching',\n",
       "  'Impulse Control Disorders',\n",
       "  \"Women's Issues\",\n",
       "  'Solution Focused Brief (SFBT)',\n",
       "  'United Behavioral health',\n",
       "  'Adolescents / Teenagers (14 to 19)',\n",
       "  'Family / Marital',\n",
       "  'Blue Cross',\n",
       "  'UnitedHealthcare',\n",
       "  'Couples',\n",
       "  'Individuals',\n",
       "  'Highmark',\n",
       "  'Coping Skills',\n",
       "  'School Issues',\n",
       "  'Exposure Therapy',\n",
       "  'Behavioral Therapy',\n",
       "  'Family Systems',\n",
       "  'University of Pittsburgh Medical Center',\n",
       "  'Life Transitions',\n",
       "  'Family',\n",
       "  'Family Conflict',\n",
       "  'Mood Disorders',\n",
       "  'Codependency',\n",
       "  'Bipolar Disorder',\n",
       "  'Borderline Personality',\n",
       "  'Anxiety',\n",
       "  'Aetna',\n",
       "  'Stress',\n",
       "  'BlueCross and BlueShield',\n",
       "  'Relationship Issues',\n",
       "  'Parenting',\n",
       "  'Toddlers / Preschoolers (0 to 6)',\n",
       "  'Personality Disorders',\n",
       "  'Interpersonal',\n",
       "  'Grief',\n",
       "  'ADHD',\n",
       "  'Blue Shield',\n",
       "  'Adults',\n",
       "  'Divorce',\n",
       "  'Thinking Disorders',\n",
       "  'UPMC',\n",
       "  'Children (6 to 10)',\n",
       "  'Anthem',\n",
       "  'Child or Adolescent',\n",
       "  'Self Esteem',\n",
       "  'Social Skills Training',\n",
       "  'Emotional Disturbance'],\n",
       " 'personal_website': 'None'}"
      ]
     },
     "execution_count": 4,
     "metadata": {},
     "output_type": "execute_result"
    }
   ],
   "source": [
    "data[0]"
   ]
  },
  {
   "cell_type": "code",
   "execution_count": 5,
   "metadata": {},
   "outputs": [
    {
     "ename": "SyntaxError",
     "evalue": "invalid syntax (<ipython-input-5-10a8d37dbc75>, line 1)",
     "output_type": "error",
     "traceback": [
      "\u001b[0;36m  File \u001b[0;32m\"<ipython-input-5-10a8d37dbc75>\"\u001b[0;36m, line \u001b[0;32m1\u001b[0m\n\u001b[0;31m    $client = MongoClient('localhost', 27017)\u001b[0m\n\u001b[0m    ^\u001b[0m\n\u001b[0;31mSyntaxError\u001b[0m\u001b[0;31m:\u001b[0m invalid syntax\n"
     ]
    }
   ],
   "source": [
    "$client = MongoClient('localhost', 27017)"
   ]
  },
  {
   "cell_type": "code",
   "execution_count": 6,
   "metadata": {},
   "outputs": [
    {
     "ename": "NameError",
     "evalue": "name 'client' is not defined",
     "output_type": "error",
     "traceback": [
      "\u001b[0;31m---------------------------------------------------------------------------\u001b[0m",
      "\u001b[0;31mNameError\u001b[0m                                 Traceback (most recent call last)",
      "\u001b[0;32m<ipython-input-6-41e75848a9e6>\u001b[0m in \u001b[0;36m<module>\u001b[0;34m\u001b[0m\n\u001b[0;32m----> 1\u001b[0;31m \u001b[0mdb\u001b[0m \u001b[0;34m=\u001b[0m \u001b[0mclient\u001b[0m\u001b[0;34m[\u001b[0m\u001b[0;34m'database_test'\u001b[0m\u001b[0;34m]\u001b[0m\u001b[0;34m\u001b[0m\u001b[0;34m\u001b[0m\u001b[0m\n\u001b[0m\u001b[1;32m      2\u001b[0m \u001b[0mposts\u001b[0m \u001b[0;34m=\u001b[0m \u001b[0mdb\u001b[0m\u001b[0;34m.\u001b[0m\u001b[0mentries\u001b[0m\u001b[0;34m\u001b[0m\u001b[0;34m\u001b[0m\u001b[0m\n",
      "\u001b[0;31mNameError\u001b[0m: name 'client' is not defined"
     ]
    }
   ],
   "source": [
    "db = client['database_test']\n",
    "posts = db.entries"
   ]
  },
  {
   "cell_type": "code",
   "execution_count": 7,
   "metadata": {},
   "outputs": [
    {
     "ename": "NameError",
     "evalue": "name 'posts' is not defined",
     "output_type": "error",
     "traceback": [
      "\u001b[0;31m---------------------------------------------------------------------------\u001b[0m",
      "\u001b[0;31mNameError\u001b[0m                                 Traceback (most recent call last)",
      "\u001b[0;32m<ipython-input-7-56a5560e22e1>\u001b[0m in \u001b[0;36m<module>\u001b[0;34m\u001b[0m\n\u001b[0;32m----> 1\u001b[0;31m \u001b[0mposts\u001b[0m\u001b[0;34m.\u001b[0m\u001b[0minsert_many\u001b[0m\u001b[0;34m(\u001b[0m\u001b[0mdata\u001b[0m\u001b[0;34m)\u001b[0m\u001b[0;34m\u001b[0m\u001b[0;34m\u001b[0m\u001b[0m\n\u001b[0m",
      "\u001b[0;31mNameError\u001b[0m: name 'posts' is not defined"
     ]
    }
   ],
   "source": [
    "posts.insert_many(data)"
   ]
  },
  {
   "cell_type": "code",
   "execution_count": 8,
   "metadata": {},
   "outputs": [
    {
     "ename": "NameError",
     "evalue": "name 'db' is not defined",
     "output_type": "error",
     "traceback": [
      "\u001b[0;31m---------------------------------------------------------------------------\u001b[0m",
      "\u001b[0;31mNameError\u001b[0m                                 Traceback (most recent call last)",
      "\u001b[0;32m<ipython-input-8-8ff4d2505e25>\u001b[0m in \u001b[0;36m<module>\u001b[0;34m\u001b[0m\n\u001b[0;32m----> 1\u001b[0;31m \u001b[0mdb\u001b[0m\u001b[0;34m.\u001b[0m\u001b[0mcollection_names\u001b[0m\u001b[0;34m(\u001b[0m\u001b[0;34m)\u001b[0m\u001b[0;34m\u001b[0m\u001b[0;34m\u001b[0m\u001b[0m\n\u001b[0m",
      "\u001b[0;31mNameError\u001b[0m: name 'db' is not defined"
     ]
    }
   ],
   "source": [
    "db.collection_names()"
   ]
  },
  {
   "cell_type": "code",
   "execution_count": 9,
   "metadata": {},
   "outputs": [],
   "source": [
    "myquery={'zip_code': {'$gt': '15000'}}"
   ]
  },
  {
   "cell_type": "code",
   "execution_count": null,
   "metadata": {},
   "outputs": [],
   "source": [
    "mydoc=posts.find(myquery)"
   ]
  },
  {
   "cell_type": "code",
   "execution_count": null,
   "metadata": {
    "scrolled": true
   },
   "outputs": [],
   "source": [
    "for x in mydoc:\n",
    "    print(x)"
   ]
  }
 ],
 "metadata": {
  "kernelspec": {
   "display_name": "Python 3",
   "language": "python",
   "name": "python3"
  },
  "language_info": {
   "codemirror_mode": {
    "name": "ipython",
    "version": 3
   },
   "file_extension": ".py",
   "mimetype": "text/x-python",
   "name": "python",
   "nbconvert_exporter": "python",
   "pygments_lexer": "ipython3",
   "version": "3.7.6"
  }
 },
 "nbformat": 4,
 "nbformat_minor": 4
}
