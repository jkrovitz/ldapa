{
 "cells": [
  {
   "cell_type": "code",
   "execution_count": 1,
   "metadata": {},
   "outputs": [],
   "source": [
    "from selenium.webdriver import Chrome, ChromeOptions\n",
    "from selenium.webdriver.common.keys import Keys\n",
    "from selenium.common.exceptions import StaleElementReferenceException, NoSuchElementException\n",
    "from bs4 import BeautifulSoup\n",
    "import re\n",
    "from time import sleep\n",
    "import pickle\n",
    "import bs4\n",
    "import collections"
   ]
  },
  {
   "cell_type": "code",
   "execution_count": 26,
   "metadata": {},
   "outputs": [],
   "source": []
  },
  {
   "cell_type": "code",
   "execution_count": 2,
   "metadata": {},
   "outputs": [],
   "source": [
    "#driver=Chrome(r'C:\\Users\\17247\\Desktop\\Werk\\ldapa\\driver\\chromedriver.exe')\n",
    "driver=Chrome(r'/Users/jkrovitz/Documents/LDA_OF_PA_Project/ldapa/driver/chromedriver')"
   ]
  },
  {
   "cell_type": "code",
   "execution_count": null,
   "metadata": {},
   "outputs": [],
   "source": []
  },
  {
   "cell_type": "code",
   "execution_count": 3,
   "metadata": {},
   "outputs": [],
   "source": [
    "driver.get('https://www.psychologytoday.com/us/therapists/patricia-kehren-pittsburgh-pa/490647?sid=5e238eb70edbd&name=Patricia+Kehren&ref=1&tr=ResultsName')"
   ]
  },
  {
   "cell_type": "code",
   "execution_count": 4,
   "metadata": {},
   "outputs": [],
   "source": [
    "page_source=driver.page_source"
   ]
  },
  {
   "cell_type": "code",
   "execution_count": 5,
   "metadata": {},
   "outputs": [
    {
     "data": {
      "text/plain": [
       "'https://www.psychologytoday.com/us/therapists/patricia-kehren-pittsburgh-pa/490647?sid=5e238eb70edbd&name=Patricia+Kehren&ref=1&tr=ResultsName'"
      ]
     },
     "execution_count": 5,
     "metadata": {},
     "output_type": "execute_result"
    }
   ],
   "source": [
    "driver.current_url"
   ]
  },
  {
   "cell_type": "code",
   "execution_count": 6,
   "metadata": {},
   "outputs": [],
   "source": [
    "soup=BeautifulSoup(page_source)"
   ]
  },
  {
   "cell_type": "code",
   "execution_count": 7,
   "metadata": {},
   "outputs": [],
   "source": [
    "website_text=soup.find('a', {'data-event-label': 'links-website'})"
   ]
  },
  {
   "cell_type": "code",
   "execution_count": 8,
   "metadata": {},
   "outputs": [
    {
     "data": {
      "text/plain": [
       "True"
      ]
     },
     "execution_count": 8,
     "metadata": {},
     "output_type": "execute_result"
    }
   ],
   "source": [
    "website_text.has_attr('href')"
   ]
  },
  {
   "cell_type": "code",
   "execution_count": 9,
   "metadata": {},
   "outputs": [],
   "source": [
    "issues=soup.findAll('ul',{'class':'attribute-list copy-small'})[1]"
   ]
  },
  {
   "cell_type": "code",
   "execution_count": 10,
   "metadata": {},
   "outputs": [],
   "source": [
    "issues_text=[]\n",
    "for i in issues:\n",
    "    if type(i) == bs4.element.Tag:\n",
    "        issues_text.append(i.text.strip())"
   ]
  },
  {
   "cell_type": "code",
   "execution_count": 11,
   "metadata": {},
   "outputs": [],
   "source": [
    "issues_text=[i.text.strip() for i in issues if type(i)==bs4.element.Tag]"
   ]
  },
  {
   "cell_type": "code",
   "execution_count": 12,
   "metadata": {},
   "outputs": [
    {
     "data": {
      "text/plain": [
       "['Adults']"
      ]
     },
     "execution_count": 12,
     "metadata": {},
     "output_type": "execute_result"
    }
   ],
   "source": [
    "issues_text"
   ]
  },
  {
   "cell_type": "code",
   "execution_count": 13,
   "metadata": {},
   "outputs": [],
   "source": [
    "mental_health=soup.findAll('ul',{'class':'attribute-list copy-small'})[2]"
   ]
  },
  {
   "cell_type": "code",
   "execution_count": 14,
   "metadata": {},
   "outputs": [],
   "source": [
    "mental_text=[]\n",
    "for i in mental_health:\n",
    "    if type(i) == bs4.element.Tag:\n",
    "        mental_text.append(i.text.strip())"
   ]
  },
  {
   "cell_type": "code",
   "execution_count": 15,
   "metadata": {},
   "outputs": [],
   "source": [
    "mental_text=[i.text.strip() for i in mental_health if type(i)==bs4.element.Tag]"
   ]
  },
  {
   "cell_type": "code",
   "execution_count": 16,
   "metadata": {},
   "outputs": [
    {
     "data": {
      "text/plain": [
       "['Cognitive Behavioral (CBT)',\n",
       " 'Dialectical (DBT)',\n",
       " 'Eclectic',\n",
       " 'Interpersonal',\n",
       " 'Motivational Interviewing',\n",
       " 'Person-Centered',\n",
       " 'Strength-Based']"
      ]
     },
     "execution_count": 16,
     "metadata": {},
     "output_type": "execute_result"
    }
   ],
   "source": [
    "mental_text"
   ]
  },
  {
   "cell_type": "code",
   "execution_count": 17,
   "metadata": {},
   "outputs": [
    {
     "data": {
      "text/plain": [
       "3"
      ]
     },
     "execution_count": 17,
     "metadata": {},
     "output_type": "execute_result"
    }
   ],
   "source": [
    "specalites=soup.findAll('li', {'class':'highlight'})\n",
    "len(specalites)"
   ]
  },
  {
   "cell_type": "code",
   "execution_count": 18,
   "metadata": {},
   "outputs": [],
   "source": [
    "spec_text=[]\n",
    "for s in specalites:\n",
    "    spec_text.append(s.text.strip())"
   ]
  },
  {
   "cell_type": "code",
   "execution_count": 19,
   "metadata": {},
   "outputs": [
    {
     "data": {
      "text/plain": [
       "['Depression', 'Anxiety', 'Mood Disorders']"
      ]
     },
     "execution_count": 19,
     "metadata": {},
     "output_type": "execute_result"
    }
   ],
   "source": [
    "spec_text"
   ]
  },
  {
   "cell_type": "code",
   "execution_count": 20,
   "metadata": {},
   "outputs": [],
   "source": [
    "issues_2=soup.findAll('ul', {'class':'attribute-list copy-small'})"
   ]
  },
  {
   "cell_type": "code",
   "execution_count": 21,
   "metadata": {},
   "outputs": [],
   "source": [
    "issues_2_text=[i.text.strip() for i in issues_2 if type(i)==bs4.element.Tag]"
   ]
  },
  {
   "cell_type": "code",
   "execution_count": 22,
   "metadata": {},
   "outputs": [],
   "source": [
    "clean_text=[t.replace('\\n', ',') for t in issues_2_text]"
   ]
  },
  {
   "cell_type": "code",
   "execution_count": 23,
   "metadata": {},
   "outputs": [],
   "source": [
    "split_text=[t.split(',') for t in clean_text]"
   ]
  },
  {
   "cell_type": "code",
   "execution_count": 24,
   "metadata": {},
   "outputs": [],
   "source": [
    "issues_2_text_clean=[]\n",
    "for t in split_text:\n",
    "    for r in t:\n",
    "        if len(r) > 0 and any(c.isalpha() for c in r):\n",
    "            issues_2_text_clean.append(r.strip())"
   ]
  },
  {
   "cell_type": "code",
   "execution_count": 25,
   "metadata": {},
   "outputs": [
    {
     "data": {
      "text/plain": [
       "['Bipolar Disorder',\n",
       " 'Career Counseling',\n",
       " 'Coping Skills',\n",
       " 'Dual Diagnosis',\n",
       " 'Emotional Disturbance',\n",
       " 'Family Conflict',\n",
       " 'Grief',\n",
       " 'Life Coaching',\n",
       " 'Life Transitions',\n",
       " 'Relationship Issues',\n",
       " 'Self Esteem',\n",
       " 'Stress',\n",
       " 'Trauma and PTSD',\n",
       " \"Women's Issues\",\n",
       " 'Adults',\n",
       " 'Cognitive Behavioral (CBT)',\n",
       " 'Dialectical (DBT)',\n",
       " 'Eclectic',\n",
       " 'Interpersonal',\n",
       " 'Motivational Interviewing',\n",
       " 'Person-Centered',\n",
       " 'Strength-Based',\n",
       " 'Individuals',\n",
       " 'Online Counseling']"
      ]
     },
     "execution_count": 25,
     "metadata": {},
     "output_type": "execute_result"
    }
   ],
   "source": [
    "issues_2_text_clean"
   ]
  },
  {
   "cell_type": "code",
   "execution_count": 26,
   "metadata": {},
   "outputs": [],
   "source": [
    "all_specs=issues_text+mental_text+spec_text"
   ]
  },
  {
   "cell_type": "code",
   "execution_count": 27,
   "metadata": {},
   "outputs": [
    {
     "data": {
      "text/plain": [
       "['Adults',\n",
       " 'Cognitive Behavioral (CBT)',\n",
       " 'Dialectical (DBT)',\n",
       " 'Eclectic',\n",
       " 'Interpersonal',\n",
       " 'Motivational Interviewing',\n",
       " 'Person-Centered',\n",
       " 'Strength-Based',\n",
       " 'Depression',\n",
       " 'Anxiety',\n",
       " 'Mood Disorders']"
      ]
     },
     "execution_count": 27,
     "metadata": {},
     "output_type": "execute_result"
    }
   ],
   "source": [
    "all_specs"
   ]
  },
  {
   "cell_type": "code",
   "execution_count": 28,
   "metadata": {},
   "outputs": [],
   "source": [
    "result={'name':'chris',\n",
    "        'phone':'123',\n",
    "        'city':'Pittsburgh',\n",
    "        'state':'PA',\n",
    "        #'zip_code':'12345',\n",
    "        #'specs':['1','2','3'],\n",
    "        'personal_website':'1234.com'}"
   ]
  },
  {
   "cell_type": "code",
   "execution_count": 29,
   "metadata": {},
   "outputs": [
    {
     "data": {
      "text/plain": [
       "{'name': 'chris',\n",
       " 'phone': '123',\n",
       " 'city': 'Pittsburgh',\n",
       " 'state': 'PA',\n",
       " 'personal_website': '1234.com'}"
      ]
     },
     "execution_count": 29,
     "metadata": {},
     "output_type": "execute_result"
    }
   ],
   "source": [
    "result"
   ]
  },
  {
   "cell_type": "code",
   "execution_count": 30,
   "metadata": {},
   "outputs": [],
   "source": [
    "def check_entry(entry):\n",
    "    proper_keys=['name', 'phone', 'city', 'state', 'zip_code', 'specs', 'personal_website']\n",
    "    missing_keys=list(set(proper_keys).difference(list(result.keys())))\n",
    "    if missing_keys:\n",
    "        for k in missing_keys:\n",
    "            entry.update({k:'None'})\n",
    "    entry_sorted=dict(collections.OrderedDict(entry))\n",
    "    return entry_sorted"
   ]
  },
  {
   "cell_type": "code",
   "execution_count": 31,
   "metadata": {},
   "outputs": [
    {
     "data": {
      "text/plain": [
       "{'name': 'chris',\n",
       " 'phone': '123',\n",
       " 'city': 'Pittsburgh',\n",
       " 'state': 'PA',\n",
       " 'personal_website': '1234.com',\n",
       " 'zip_code': 'None',\n",
       " 'specs': 'None'}"
      ]
     },
     "execution_count": 31,
     "metadata": {},
     "output_type": "execute_result"
    }
   ],
   "source": [
    "check_entry(result)"
   ]
  },
  {
   "cell_type": "code",
   "execution_count": null,
   "metadata": {},
   "outputs": [],
   "source": []
  },
  {
   "cell_type": "code",
   "execution_count": null,
   "metadata": {},
   "outputs": [],
   "source": []
  },
  {
   "cell_type": "code",
   "execution_count": null,
   "metadata": {},
   "outputs": [],
   "source": []
  },
  {
   "cell_type": "code",
   "execution_count": null,
   "metadata": {},
   "outputs": [],
   "source": []
  },
  {
   "cell_type": "code",
   "execution_count": null,
   "metadata": {},
   "outputs": [],
   "source": []
  }
 ],
 "metadata": {
  "kernelspec": {
   "display_name": "Python 3",
   "language": "python",
   "name": "python3"
  },
  "language_info": {
   "codemirror_mode": {
    "name": "ipython",
    "version": 3
   },
   "file_extension": ".py",
   "mimetype": "text/x-python",
   "name": "python",
   "nbconvert_exporter": "python",
   "pygments_lexer": "ipython3",
   "version": "3.7.6"
  }
 },
 "nbformat": 4,
 "nbformat_minor": 4
}
