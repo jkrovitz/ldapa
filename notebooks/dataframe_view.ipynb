{
 "cells": [
  {
   "cell_type": "code",
   "execution_count": 3,
   "metadata": {},
   "outputs": [],
   "source": [
    "import pandas as pd\n",
    "import pickle"
   ]
  },
  {
   "cell_type": "code",
   "execution_count": 4,
   "metadata": {},
   "outputs": [],
   "source": [
    "with open(\"../data/pitt_data.txt\", \"rb\") as fp:\n",
    "    data=pickle.load(fp)"
   ]
  },
  {
   "cell_type": "code",
   "execution_count": 5,
   "metadata": {},
   "outputs": [],
   "source": [
    "df = pd.DataFrame(data)"
   ]
  },
  {
   "cell_type": "code",
   "execution_count": 6,
   "metadata": {},
   "outputs": [
    {
     "data": {
      "text/plain": [
       "651"
      ]
     },
     "execution_count": 6,
     "metadata": {},
     "output_type": "execute_result"
    }
   ],
   "source": [
    "len(df[df['personal_website']=='None'])"
   ]
  },
  {
   "cell_type": "code",
   "execution_count": 7,
   "metadata": {},
   "outputs": [],
   "source": [
    "df.to_csv('../data/pitt_data_file.csv', index=False)"
   ]
  },
  {
   "cell_type": "code",
   "execution_count": 8,
   "metadata": {},
   "outputs": [
    {
     "data": {
      "text/plain": [
       "0      None\n",
       "1      None\n",
       "2      None\n",
       "3      None\n",
       "4      None\n",
       "       ... \n",
       "646    None\n",
       "647    None\n",
       "648    None\n",
       "649    None\n",
       "650    None\n",
       "Name: personal_website, Length: 651, dtype: object"
      ]
     },
     "execution_count": 8,
     "metadata": {},
     "output_type": "execute_result"
    }
   ],
   "source": [
    "df['personal_website']"
   ]
  },
  {
   "cell_type": "code",
   "execution_count": 10,
   "metadata": {},
   "outputs": [
    {
     "data": {
      "text/html": [
       "<div>\n",
       "<style scoped>\n",
       "    .dataframe tbody tr th:only-of-type {\n",
       "        vertical-align: middle;\n",
       "    }\n",
       "\n",
       "    .dataframe tbody tr th {\n",
       "        vertical-align: top;\n",
       "    }\n",
       "\n",
       "    .dataframe thead th {\n",
       "        text-align: right;\n",
       "    }\n",
       "</style>\n",
       "<table border=\"1\" class=\"dataframe\">\n",
       "  <thead>\n",
       "    <tr style=\"text-align: right;\">\n",
       "      <th></th>\n",
       "      <th>name</th>\n",
       "      <th>phone</th>\n",
       "      <th>city</th>\n",
       "      <th>state</th>\n",
       "      <th>zip_code</th>\n",
       "      <th>information</th>\n",
       "      <th>personal_website</th>\n",
       "    </tr>\n",
       "  </thead>\n",
       "  <tbody>\n",
       "    <tr>\n",
       "      <th>0</th>\n",
       "      <td>Monté Robinson</td>\n",
       "      <td>(412) 275-4692</td>\n",
       "      <td>Pittsburgh</td>\n",
       "      <td>Pennsylvania</td>\n",
       "      <td>15206</td>\n",
       "      <td>[Cigna, Anger Management, United Health Care, ...</td>\n",
       "      <td>None</td>\n",
       "    </tr>\n",
       "    <tr>\n",
       "      <th>1</th>\n",
       "      <td>Harmony Sullivan</td>\n",
       "      <td>(412) 685-4579</td>\n",
       "      <td>Pittsburgh</td>\n",
       "      <td>Pennsylvania</td>\n",
       "      <td>15206</td>\n",
       "      <td>[Coping Skills, Experiential Therapy, Kink All...</td>\n",
       "      <td>None</td>\n",
       "    </tr>\n",
       "    <tr>\n",
       "      <th>2</th>\n",
       "      <td>Kaitlyn E Myers-Brooks</td>\n",
       "      <td>(878) 205-2148</td>\n",
       "      <td>Pittsburgh</td>\n",
       "      <td>Pennsylvania</td>\n",
       "      <td>15221</td>\n",
       "      <td>[Coping Skills, Kink Allied, Group, Open Relat...</td>\n",
       "      <td>None</td>\n",
       "    </tr>\n",
       "    <tr>\n",
       "      <th>3</th>\n",
       "      <td>Scott Windham</td>\n",
       "      <td>(412) 228-0295</td>\n",
       "      <td>Pittsburgh</td>\n",
       "      <td>Pennsylvania</td>\n",
       "      <td>15220</td>\n",
       "      <td>[Self-Harming, Trauma Focused, Child or Adoles...</td>\n",
       "      <td>None</td>\n",
       "    </tr>\n",
       "    <tr>\n",
       "      <th>4</th>\n",
       "      <td>Deborah K Gilman</td>\n",
       "      <td>(412) 455-6924</td>\n",
       "      <td>Pittsburgh</td>\n",
       "      <td>Pennsylvania</td>\n",
       "      <td>15238</td>\n",
       "      <td>[Chronic Pain, Adoption, Medication Management...</td>\n",
       "      <td>None</td>\n",
       "    </tr>\n",
       "    <tr>\n",
       "      <th>...</th>\n",
       "      <td>...</td>\n",
       "      <td>...</td>\n",
       "      <td>...</td>\n",
       "      <td>...</td>\n",
       "      <td>...</td>\n",
       "      <td>...</td>\n",
       "      <td>...</td>\n",
       "    </tr>\n",
       "    <tr>\n",
       "      <th>646</th>\n",
       "      <td>Jody Nagel</td>\n",
       "      <td>(412) 265-1319</td>\n",
       "      <td>Pittsburgh</td>\n",
       "      <td>Pennsylvania</td>\n",
       "      <td>15236</td>\n",
       "      <td>[Coping Skills, Domestic Abuse, Chronic Impuls...</td>\n",
       "      <td>None</td>\n",
       "    </tr>\n",
       "    <tr>\n",
       "      <th>647</th>\n",
       "      <td>Erin Donnelly</td>\n",
       "      <td>(913) 370-7041</td>\n",
       "      <td>Allison Park</td>\n",
       "      <td>Pennsylvania</td>\n",
       "      <td>15101</td>\n",
       "      <td>[Kink Allied, Clinical Supervision and License...</td>\n",
       "      <td>None</td>\n",
       "    </tr>\n",
       "    <tr>\n",
       "      <th>648</th>\n",
       "      <td>Edwards and Associates</td>\n",
       "      <td>(412) 203-4186</td>\n",
       "      <td>Pittsburgh</td>\n",
       "      <td>Pennsylvania</td>\n",
       "      <td>15219</td>\n",
       "      <td>[and Court-Requested therapy, Coping Skills, A...</td>\n",
       "      <td>None</td>\n",
       "    </tr>\n",
       "    <tr>\n",
       "      <th>649</th>\n",
       "      <td>Mind, Body, &amp; Soulutions LLC</td>\n",
       "      <td>(412) 246-9768</td>\n",
       "      <td>Pittsburgh</td>\n",
       "      <td>Pennsylvania</td>\n",
       "      <td>15220</td>\n",
       "      <td>[Aetna, Self Pay, Coping Skills, Domestic Abus...</td>\n",
       "      <td>None</td>\n",
       "    </tr>\n",
       "    <tr>\n",
       "      <th>650</th>\n",
       "      <td>George E Dalzell</td>\n",
       "      <td>(412) 228-0633</td>\n",
       "      <td>Pittsburgh</td>\n",
       "      <td>Pennsylvania</td>\n",
       "      <td>15218</td>\n",
       "      <td>[Coping Skills, Anger Management, University o...</td>\n",
       "      <td>None</td>\n",
       "    </tr>\n",
       "  </tbody>\n",
       "</table>\n",
       "<p>651 rows × 7 columns</p>\n",
       "</div>"
      ],
      "text/plain": [
       "                             name           phone          city         state  \\\n",
       "0                  Monté Robinson  (412) 275-4692    Pittsburgh  Pennsylvania   \n",
       "1                Harmony Sullivan  (412) 685-4579    Pittsburgh  Pennsylvania   \n",
       "2          Kaitlyn E Myers-Brooks  (878) 205-2148    Pittsburgh  Pennsylvania   \n",
       "3                   Scott Windham  (412) 228-0295    Pittsburgh  Pennsylvania   \n",
       "4                Deborah K Gilman  (412) 455-6924    Pittsburgh  Pennsylvania   \n",
       "..                            ...             ...           ...           ...   \n",
       "646                    Jody Nagel  (412) 265-1319    Pittsburgh  Pennsylvania   \n",
       "647                 Erin Donnelly  (913) 370-7041  Allison Park  Pennsylvania   \n",
       "648        Edwards and Associates  (412) 203-4186    Pittsburgh  Pennsylvania   \n",
       "649  Mind, Body, & Soulutions LLC  (412) 246-9768    Pittsburgh  Pennsylvania   \n",
       "650              George E Dalzell  (412) 228-0633    Pittsburgh  Pennsylvania   \n",
       "\n",
       "    zip_code                                        information  \\\n",
       "0      15206  [Cigna, Anger Management, United Health Care, ...   \n",
       "1      15206  [Coping Skills, Experiential Therapy, Kink All...   \n",
       "2      15221  [Coping Skills, Kink Allied, Group, Open Relat...   \n",
       "3      15220  [Self-Harming, Trauma Focused, Child or Adoles...   \n",
       "4      15238  [Chronic Pain, Adoption, Medication Management...   \n",
       "..       ...                                                ...   \n",
       "646    15236  [Coping Skills, Domestic Abuse, Chronic Impuls...   \n",
       "647    15101  [Kink Allied, Clinical Supervision and License...   \n",
       "648    15219  [and Court-Requested therapy, Coping Skills, A...   \n",
       "649    15220  [Aetna, Self Pay, Coping Skills, Domestic Abus...   \n",
       "650    15218  [Coping Skills, Anger Management, University o...   \n",
       "\n",
       "    personal_website  \n",
       "0               None  \n",
       "1               None  \n",
       "2               None  \n",
       "3               None  \n",
       "4               None  \n",
       "..               ...  \n",
       "646             None  \n",
       "647             None  \n",
       "648             None  \n",
       "649             None  \n",
       "650             None  \n",
       "\n",
       "[651 rows x 7 columns]"
      ]
     },
     "execution_count": 10,
     "metadata": {},
     "output_type": "execute_result"
    }
   ],
   "source": [
    "df"
   ]
  },
  {
   "cell_type": "code",
   "execution_count": null,
   "metadata": {},
   "outputs": [],
   "source": []
  }
 ],
 "metadata": {
  "kernelspec": {
   "display_name": "Python 3",
   "language": "python",
   "name": "python3"
  },
  "language_info": {
   "codemirror_mode": {
    "name": "ipython",
    "version": 3
   },
   "file_extension": ".py",
   "mimetype": "text/x-python",
   "name": "python",
   "nbconvert_exporter": "python",
   "pygments_lexer": "ipython3",
   "version": "3.7.6"
  }
 },
 "nbformat": 4,
 "nbformat_minor": 4
}
