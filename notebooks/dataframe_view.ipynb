{
 "cells": [
  {
   "cell_type": "code",
   "execution_count": 1,
   "metadata": {},
   "outputs": [],
   "source": [
    "import pandas as pd\n",
    "import pickle"
   ]
  },
  {
   "cell_type": "code",
   "execution_count": 2,
   "metadata": {},
   "outputs": [],
   "source": [
    "with open(\"../data/pitt_data.txt\", \"rb\") as fp:\n",
    "    data=pickle.load(fp)"
   ]
  },
  {
   "cell_type": "code",
   "execution_count": 3,
   "metadata": {},
   "outputs": [],
   "source": [
    "df = pd.DataFrame(data)"
   ]
  },
  {
   "cell_type": "code",
   "execution_count": 4,
   "metadata": {},
   "outputs": [
    {
     "data": {
      "text/plain": [
       "671"
      ]
     },
     "execution_count": 4,
     "metadata": {},
     "output_type": "execute_result"
    }
   ],
   "source": [
    "len(df[df['personal_website']=='None'])"
   ]
  },
  {
   "cell_type": "code",
   "execution_count": 5,
   "metadata": {},
   "outputs": [],
   "source": [
    "df.to_csv('../data/pitt_data_file.csv', index=False)"
   ]
  },
  {
   "cell_type": "code",
   "execution_count": 6,
   "metadata": {},
   "outputs": [
    {
     "data": {
      "text/plain": [
       "0      None\n",
       "1      None\n",
       "2      None\n",
       "3      None\n",
       "4      None\n",
       "       ... \n",
       "666    None\n",
       "667    None\n",
       "668    None\n",
       "669    None\n",
       "670    None\n",
       "Name: personal_website, Length: 671, dtype: object"
      ]
     },
     "execution_count": 6,
     "metadata": {},
     "output_type": "execute_result"
    }
   ],
   "source": [
    "df['personal_website']"
   ]
  },
  {
   "cell_type": "code",
   "execution_count": 7,
   "metadata": {},
   "outputs": [
    {
     "data": {
      "text/html": [
       "<div>\n",
       "<style scoped>\n",
       "    .dataframe tbody tr th:only-of-type {\n",
       "        vertical-align: middle;\n",
       "    }\n",
       "\n",
       "    .dataframe tbody tr th {\n",
       "        vertical-align: top;\n",
       "    }\n",
       "\n",
       "    .dataframe thead th {\n",
       "        text-align: right;\n",
       "    }\n",
       "</style>\n",
       "<table border=\"1\" class=\"dataframe\">\n",
       "  <thead>\n",
       "    <tr style=\"text-align: right;\">\n",
       "      <th></th>\n",
       "      <th>name</th>\n",
       "      <th>phone</th>\n",
       "      <th>city</th>\n",
       "      <th>state</th>\n",
       "      <th>zip_code</th>\n",
       "      <th>information</th>\n",
       "      <th>personal_website</th>\n",
       "    </tr>\n",
       "  </thead>\n",
       "  <tbody>\n",
       "    <tr>\n",
       "      <th>0</th>\n",
       "      <td>Douglas C Stewart</td>\n",
       "      <td>(412) 536-7801</td>\n",
       "      <td>Mount Lebanon</td>\n",
       "      <td>Pennsylvania</td>\n",
       "      <td>15228</td>\n",
       "      <td>[Mood Disorders, Divorce, Existential, Interpe...</td>\n",
       "      <td>None</td>\n",
       "    </tr>\n",
       "    <tr>\n",
       "      <th>1</th>\n",
       "      <td>Tim Hamill</td>\n",
       "      <td>(412) 528-6079</td>\n",
       "      <td>Sewickley</td>\n",
       "      <td>Pennsylvania</td>\n",
       "      <td>15143</td>\n",
       "      <td>[Non-Binary Allied, Mood Disorders, Stress, Qu...</td>\n",
       "      <td>None</td>\n",
       "    </tr>\n",
       "    <tr>\n",
       "      <th>2</th>\n",
       "      <td>Melinda Stupar Fedoris</td>\n",
       "      <td>(412) 385-4894</td>\n",
       "      <td>Munhall</td>\n",
       "      <td>Pennsylvania</td>\n",
       "      <td>15120</td>\n",
       "      <td>[Lesbian Allied, Mood Disorders, Stress, Child...</td>\n",
       "      <td>None</td>\n",
       "    </tr>\n",
       "    <tr>\n",
       "      <th>3</th>\n",
       "      <td>Adam Thomas Oshnock</td>\n",
       "      <td>(412) 275-6076</td>\n",
       "      <td>Canonsburg</td>\n",
       "      <td>Pennsylvania</td>\n",
       "      <td>15317</td>\n",
       "      <td>[Autism, Asperger's Syndrome, Mood Disorders, ...</td>\n",
       "      <td>None</td>\n",
       "    </tr>\n",
       "    <tr>\n",
       "      <th>4</th>\n",
       "      <td>Today Has Purpose</td>\n",
       "      <td>(878) 218-9671</td>\n",
       "      <td>Canonsburg</td>\n",
       "      <td>Pennsylvania</td>\n",
       "      <td>15317</td>\n",
       "      <td>[Mood Disorders, Integrative, Stress, Substanc...</td>\n",
       "      <td>None</td>\n",
       "    </tr>\n",
       "    <tr>\n",
       "      <th>...</th>\n",
       "      <td>...</td>\n",
       "      <td>...</td>\n",
       "      <td>...</td>\n",
       "      <td>...</td>\n",
       "      <td>...</td>\n",
       "      <td>...</td>\n",
       "      <td>...</td>\n",
       "    </tr>\n",
       "    <tr>\n",
       "      <th>666</th>\n",
       "      <td>Rebecca deHaven Wagner</td>\n",
       "      <td>(412) 693-6558</td>\n",
       "      <td>Pittsburgh</td>\n",
       "      <td>Pennsylvania</td>\n",
       "      <td>15237</td>\n",
       "      <td>[Stress, Child or Adolescent, Preteens / Tween...</td>\n",
       "      <td>None</td>\n",
       "    </tr>\n",
       "    <tr>\n",
       "      <th>667</th>\n",
       "      <td>Nancy Fair</td>\n",
       "      <td>(412) 203-4352</td>\n",
       "      <td>Pittsburgh</td>\n",
       "      <td>Pennsylvania</td>\n",
       "      <td>15206</td>\n",
       "      <td>[Mood Disorders, Substance Use, Dual Diagnosis...</td>\n",
       "      <td>None</td>\n",
       "    </tr>\n",
       "    <tr>\n",
       "      <th>668</th>\n",
       "      <td>Denise C Haver</td>\n",
       "      <td>(412) 339-1430</td>\n",
       "      <td>Pittsburgh</td>\n",
       "      <td>Pennsylvania</td>\n",
       "      <td>15237</td>\n",
       "      <td>[Lesbian Allied, Weight Loss, Infertility, Moo...</td>\n",
       "      <td>None</td>\n",
       "    </tr>\n",
       "    <tr>\n",
       "      <th>669</th>\n",
       "      <td>Sara Makin</td>\n",
       "      <td>(412) 308-5503</td>\n",
       "      <td>Pittsburgh</td>\n",
       "      <td>Pennsylvania</td>\n",
       "      <td>15222</td>\n",
       "      <td>[Lesbian Allied, Non-Binary Allied, Mood Disor...</td>\n",
       "      <td>None</td>\n",
       "    </tr>\n",
       "    <tr>\n",
       "      <th>670</th>\n",
       "      <td>Ryan Reagan</td>\n",
       "      <td>(412) 693-6348</td>\n",
       "      <td>Pittsburgh</td>\n",
       "      <td>Pennsylvania</td>\n",
       "      <td>15216</td>\n",
       "      <td>[Autism, Asperger's Syndrome, Divorce, Preteen...</td>\n",
       "      <td>None</td>\n",
       "    </tr>\n",
       "  </tbody>\n",
       "</table>\n",
       "<p>671 rows × 7 columns</p>\n",
       "</div>"
      ],
      "text/plain": [
       "                       name           phone           city         state  \\\n",
       "0         Douglas C Stewart  (412) 536-7801  Mount Lebanon  Pennsylvania   \n",
       "1                Tim Hamill  (412) 528-6079      Sewickley  Pennsylvania   \n",
       "2    Melinda Stupar Fedoris  (412) 385-4894        Munhall  Pennsylvania   \n",
       "3       Adam Thomas Oshnock  (412) 275-6076     Canonsburg  Pennsylvania   \n",
       "4         Today Has Purpose  (878) 218-9671     Canonsburg  Pennsylvania   \n",
       "..                      ...             ...            ...           ...   \n",
       "666  Rebecca deHaven Wagner  (412) 693-6558     Pittsburgh  Pennsylvania   \n",
       "667              Nancy Fair  (412) 203-4352     Pittsburgh  Pennsylvania   \n",
       "668          Denise C Haver  (412) 339-1430     Pittsburgh  Pennsylvania   \n",
       "669              Sara Makin  (412) 308-5503     Pittsburgh  Pennsylvania   \n",
       "670             Ryan Reagan  (412) 693-6348     Pittsburgh  Pennsylvania   \n",
       "\n",
       "    zip_code                                        information  \\\n",
       "0      15228  [Mood Disorders, Divorce, Existential, Interpe...   \n",
       "1      15143  [Non-Binary Allied, Mood Disorders, Stress, Qu...   \n",
       "2      15120  [Lesbian Allied, Mood Disorders, Stress, Child...   \n",
       "3      15317  [Autism, Asperger's Syndrome, Mood Disorders, ...   \n",
       "4      15317  [Mood Disorders, Integrative, Stress, Substanc...   \n",
       "..       ...                                                ...   \n",
       "666    15237  [Stress, Child or Adolescent, Preteens / Tween...   \n",
       "667    15206  [Mood Disorders, Substance Use, Dual Diagnosis...   \n",
       "668    15237  [Lesbian Allied, Weight Loss, Infertility, Moo...   \n",
       "669    15222  [Lesbian Allied, Non-Binary Allied, Mood Disor...   \n",
       "670    15216  [Autism, Asperger's Syndrome, Divorce, Preteen...   \n",
       "\n",
       "    personal_website  \n",
       "0               None  \n",
       "1               None  \n",
       "2               None  \n",
       "3               None  \n",
       "4               None  \n",
       "..               ...  \n",
       "666             None  \n",
       "667             None  \n",
       "668             None  \n",
       "669             None  \n",
       "670             None  \n",
       "\n",
       "[671 rows x 7 columns]"
      ]
     },
     "execution_count": 7,
     "metadata": {},
     "output_type": "execute_result"
    }
   ],
   "source": [
    "df"
   ]
  },
  {
   "cell_type": "code",
   "execution_count": null,
   "metadata": {},
   "outputs": [],
   "source": []
  }
 ],
 "metadata": {
  "kernelspec": {
   "display_name": "Python 3",
   "language": "python",
   "name": "python3"
  },
  "language_info": {
   "codemirror_mode": {
    "name": "ipython",
    "version": 3
   },
   "file_extension": ".py",
   "mimetype": "text/x-python",
   "name": "python",
   "nbconvert_exporter": "python",
   "pygments_lexer": "ipython3",
   "version": "3.7.6"
  }
 },
 "nbformat": 4,
 "nbformat_minor": 4
}
